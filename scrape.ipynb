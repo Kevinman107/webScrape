{
 "cells": [
  {
   "cell_type": "code",
   "execution_count": 103,
   "id": "e381581b-0b1b-4b28-b3de-fed5d96ddfc1",
   "metadata": {},
   "outputs": [],
   "source": [
    "from bs4 import BeautifulSoup\n",
    "import requests\n",
    "import pandas as pd\n",
    "import time"
   ]
  },
  {
   "cell_type": "code",
   "execution_count": 104,
   "id": "f3bfab6b-4167-4974-9f8f-5eff69dbc151",
   "metadata": {},
   "outputs": [],
   "source": [
    "\n",
    "headers = {\"User-Agent\": \"Mozilla/5.0 (Macintosh; Intel Mac OS X 10_15_7) AppleWebKit/537.36 (KHTML, like Gecko) Chrome/129.0.0.0 Safari/537.36\", \n",
    "           \"Accept-Encoding\":\"gzip, deflate\", \n",
    "           \"Accept\":\"text/html,application/xhtml+xml,application/xml;q=0.9,*/*;q=0.8\", \n",
    "           \"DNT\":\"1\",\"Connection\":\"close\", \"Upgrade-Insecure-Requests\":\"1\"}\n",
    "\n",
    "URL = \"https://www.amazon.ca/s?k=phone&crid=2BYDDM0N15J5S&sprefix=%2Caps%2C428&ref=nb_sb_noss_2\"\n",
    "webpage = requests.get(URL, headers=headers)\n"
   ]
  },
  {
   "cell_type": "code",
   "execution_count": 105,
   "id": "f2169ba0-51ff-4e53-b18a-d290e78a7bda",
   "metadata": {},
   "outputs": [],
   "source": [
    "soup = BeautifulSoup(webpage.content, \"html.parser\")\n",
    "links = soup.find_all(\"a\", attrs={\"class\": \"a-link-normal s-underline-text s-underline-link-text s-link-style a-text-normal\"})"
   ]
  },
  {
   "cell_type": "code",
   "execution_count": 106,
   "id": "12760487-90c0-47b4-8cfa-fa9e9ff34d5f",
   "metadata": {},
   "outputs": [],
   "source": [
    "filteredLinks = []\n",
    "\n",
    "for link in links: \n",
    "    if \"sspa\" not in link['href']:\n",
    "        filteredLinks.append(link['href'])"
   ]
  },
  {
   "cell_type": "code",
   "execution_count": 108,
   "id": "7673149c-7544-435d-a2fb-467e734efc99",
   "metadata": {},
   "outputs": [
    {
     "name": "stdout",
     "output_type": "stream",
     "text": [
      "/Samsung-Galaxy-128GB-Unlocked-Worldwide/dp/B0CSLTN49K/ref=sr_1_5?crid=2BYDDM0N15J5S&dib=eyJ2IjoiMSJ9.1WYwa9rFiUDoCW9Su6suF2z5FAu4yppk1ZZwu8AMlII44qcdmi0delm76PzE8Trd5ip3J34Gwu6MLtTg84xjv1YebngaMmj4BO_bKwXwWCVooQx6S3jbu5kPe_WvlGlDpXobbL2tRlei-bxZw5FTYvYyoF1iAJOe8-i3jBzbR84lWXXciXm4wPM8PNWrjMG_wqlYWBZaJU9y53d_jjTBz43hyMOvH4vjziePciXXvV0luyd9GDd0KzNbHic5ky0F4Q-WcqprVOkYFSg5dgnqHM4IFhfLXMEls-UhI-EihHU.pv3WOkv0fIWhz_fvHXCJLAi4GiGUz76ZEfRKUpZbjqk&dib_tag=se&keywords=phone&qid=1729695549&sprefix=%2Caps%2C428&sr=8-5\n",
      "/Samsung-A10e-32GB-A102W-Long-lasting/dp/B08P2FWV8J/ref=sr_1_6?crid=2BYDDM0N15J5S&dib=eyJ2IjoiMSJ9.1WYwa9rFiUDoCW9Su6suF2z5FAu4yppk1ZZwu8AMlII44qcdmi0delm76PzE8Trd5ip3J34Gwu6MLtTg84xjv1YebngaMmj4BO_bKwXwWCVooQx6S3jbu5kPe_WvlGlDpXobbL2tRlei-bxZw5FTYvYyoF1iAJOe8-i3jBzbR84lWXXciXm4wPM8PNWrjMG_wqlYWBZaJU9y53d_jjTBz43hyMOvH4vjziePciXXvV0luyd9GDd0KzNbHic5ky0F4Q-WcqprVOkYFSg5dgnqHM4IFhfLXMEls-UhI-EihHU.pv3WOkv0fIWhz_fvHXCJLAi4GiGUz76ZEfRKUpZbjqk&dib_tag=se&keywords=phone&qid=1729695549&sprefix=%2Caps%2C428&sr=8-6\n",
      "/Samsung-DualSim-Battery-International-Version/dp/B0CP45WBMP/ref=sr_1_7?crid=2BYDDM0N15J5S&dib=eyJ2IjoiMSJ9.1WYwa9rFiUDoCW9Su6suF2z5FAu4yppk1ZZwu8AMlII44qcdmi0delm76PzE8Trd5ip3J34Gwu6MLtTg84xjv1YebngaMmj4BO_bKwXwWCVooQx6S3jbu5kPe_WvlGlDpXobbL2tRlei-bxZw5FTYvYyoF1iAJOe8-i3jBzbR84lWXXciXm4wPM8PNWrjMG_wqlYWBZaJU9y53d_jjTBz43hyMOvH4vjziePciXXvV0luyd9GDd0KzNbHic5ky0F4Q-WcqprVOkYFSg5dgnqHM4IFhfLXMEls-UhI-EihHU.pv3WOkv0fIWhz_fvHXCJLAi4GiGUz76ZEfRKUpZbjqk&dib_tag=se&keywords=phone&qid=1729695549&sprefix=%2Caps%2C428&sr=8-7\n",
      "/Samsung-Galaxy-Android-Smartphone-Storage/dp/B0CQ5BMBGN/ref=sr_1_8?crid=2BYDDM0N15J5S&dib=eyJ2IjoiMSJ9.1WYwa9rFiUDoCW9Su6suF2z5FAu4yppk1ZZwu8AMlII44qcdmi0delm76PzE8Trd5ip3J34Gwu6MLtTg84xjv1YebngaMmj4BO_bKwXwWCVooQx6S3jbu5kPe_WvlGlDpXobbL2tRlei-bxZw5FTYvYyoF1iAJOe8-i3jBzbR84lWXXciXm4wPM8PNWrjMG_wqlYWBZaJU9y53d_jjTBz43hyMOvH4vjziePciXXvV0luyd9GDd0KzNbHic5ky0F4Q-WcqprVOkYFSg5dgnqHM4IFhfLXMEls-UhI-EihHU.pv3WOkv0fIWhz_fvHXCJLAi4GiGUz76ZEfRKUpZbjqk&dib_tag=se&keywords=phone&qid=1729695549&sprefix=%2Caps%2C428&sr=8-8\n",
      "/Motorola-Unlocked-Smartphone-Display-International/dp/B0D1LPC7XF/ref=sr_1_9?crid=2BYDDM0N15J5S&dib=eyJ2IjoiMSJ9.1WYwa9rFiUDoCW9Su6suF2z5FAu4yppk1ZZwu8AMlII44qcdmi0delm76PzE8Trd5ip3J34Gwu6MLtTg84xjv1YebngaMmj4BO_bKwXwWCVooQx6S3jbu5kPe_WvlGlDpXobbL2tRlei-bxZw5FTYvYyoF1iAJOe8-i3jBzbR84lWXXciXm4wPM8PNWrjMG_wqlYWBZaJU9y53d_jjTBz43hyMOvH4vjziePciXXvV0luyd9GDd0KzNbHic5ky0F4Q-WcqprVOkYFSg5dgnqHM4IFhfLXMEls-UhI-EihHU.pv3WOkv0fIWhz_fvHXCJLAi4GiGUz76ZEfRKUpZbjqk&dib_tag=se&keywords=phone&qid=1729695549&sprefix=%2Caps%2C428&sr=8-9\n",
      "/Samsung-Galaxy-A03s-Display-Unlocked/dp/B09RN6WXXF/ref=sr_1_10?crid=2BYDDM0N15J5S&dib=eyJ2IjoiMSJ9.1WYwa9rFiUDoCW9Su6suF2z5FAu4yppk1ZZwu8AMlII44qcdmi0delm76PzE8Trd5ip3J34Gwu6MLtTg84xjv1YebngaMmj4BO_bKwXwWCVooQx6S3jbu5kPe_WvlGlDpXobbL2tRlei-bxZw5FTYvYyoF1iAJOe8-i3jBzbR84lWXXciXm4wPM8PNWrjMG_wqlYWBZaJU9y53d_jjTBz43hyMOvH4vjziePciXXvV0luyd9GDd0KzNbHic5ky0F4Q-WcqprVOkYFSg5dgnqHM4IFhfLXMEls-UhI-EihHU.pv3WOkv0fIWhz_fvHXCJLAi4GiGUz76ZEfRKUpZbjqk&dib_tag=se&keywords=phone&qid=1729695549&sprefix=%2Caps%2C428&sr=8-10\n",
      "/Samsung-Galaxy-S21-128GB-Unlocked/dp/B08VLMQ3KS/ref=sr_1_11?crid=2BYDDM0N15J5S&dib=eyJ2IjoiMSJ9.1WYwa9rFiUDoCW9Su6suF2z5FAu4yppk1ZZwu8AMlII44qcdmi0delm76PzE8Trd5ip3J34Gwu6MLtTg84xjv1YebngaMmj4BO_bKwXwWCVooQx6S3jbu5kPe_WvlGlDpXobbL2tRlei-bxZw5FTYvYyoF1iAJOe8-i3jBzbR84lWXXciXm4wPM8PNWrjMG_wqlYWBZaJU9y53d_jjTBz43hyMOvH4vjziePciXXvV0luyd9GDd0KzNbHic5ky0F4Q-WcqprVOkYFSg5dgnqHM4IFhfLXMEls-UhI-EihHU.pv3WOkv0fIWhz_fvHXCJLAi4GiGUz76ZEfRKUpZbjqk&dib_tag=se&keywords=phone&qid=1729695549&sprefix=%2Caps%2C428&sr=8-11\n",
      "/SAMSUNG-Galaxy-AMOLED-Unlocked-International/dp/B0CRWHQFDB/ref=sr_1_12?crid=2BYDDM0N15J5S&dib=eyJ2IjoiMSJ9.1WYwa9rFiUDoCW9Su6suF2z5FAu4yppk1ZZwu8AMlII44qcdmi0delm76PzE8Trd5ip3J34Gwu6MLtTg84xjv1YebngaMmj4BO_bKwXwWCVooQx6S3jbu5kPe_WvlGlDpXobbL2tRlei-bxZw5FTYvYyoF1iAJOe8-i3jBzbR84lWXXciXm4wPM8PNWrjMG_wqlYWBZaJU9y53d_jjTBz43hyMOvH4vjziePciXXvV0luyd9GDd0KzNbHic5ky0F4Q-WcqprVOkYFSg5dgnqHM4IFhfLXMEls-UhI-EihHU.pv3WOkv0fIWhz_fvHXCJLAi4GiGUz76ZEfRKUpZbjqk&dib_tag=se&keywords=phone&qid=1729695549&sprefix=%2Caps%2C428&sr=8-12\n",
      "/Samsung-Android-Unlocked-Version-Warranty/dp/B0CQKGGFCD/ref=sr_1_13?crid=2BYDDM0N15J5S&dib=eyJ2IjoiMSJ9.1WYwa9rFiUDoCW9Su6suF2z5FAu4yppk1ZZwu8AMlII44qcdmi0delm76PzE8Trd5ip3J34Gwu6MLtTg84xjv1YebngaMmj4BO_bKwXwWCVooQx6S3jbu5kPe_WvlGlDpXobbL2tRlei-bxZw5FTYvYyoF1iAJOe8-i3jBzbR84lWXXciXm4wPM8PNWrjMG_wqlYWBZaJU9y53d_jjTBz43hyMOvH4vjziePciXXvV0luyd9GDd0KzNbHic5ky0F4Q-WcqprVOkYFSg5dgnqHM4IFhfLXMEls-UhI-EihHU.pv3WOkv0fIWhz_fvHXCJLAi4GiGUz76ZEfRKUpZbjqk&dib_tag=se&keywords=phone&qid=1729695549&sprefix=%2Caps%2C428&sr=8-13\n",
      "HTTPSConnectionPool(host='amazon.cahttps', port=443): Max retries exceeded with url: /aax-us-iad.amazon.com/x/c/JOAM8eyggqEVCQzTT3shecMAAAGSueOHqAEAAAH2AQBvbm9fdHhuX2JpZDIgICBvbm9fdHhuX2ltcDEgICB1PzBv/https://www.amazon.ca/MAGICRAVEN-Portable-Monitor-Computer-External/dp/B0CNLX2DCJ/ref=sxin_23_sbv_search_btf?content-id=amzn1.sym.8d483e07-327c-4aac-8788-cd60359f3dcb%3Aamzn1.sym.8d483e07-327c-4aac-8788-cd60359f3dcb&crid=2BYDDM0N15J5S&cv_ct_cx=phone&dib=eyJ2IjoiMSJ9.GbCsPU3cZS7aiDoFm6hcXw.KNhtMew5mjs53QbR3LbLPYQAsxlslivXvnvnAsJTEZM&dib_tag=se&keywords=phone&pd_rd_i=B0CNLX2DCJ&pd_rd_r=de29eaec-aa48-483a-b7e8-227f1d7219d6&pd_rd_w=2JL2N&pd_rd_wg=a1WIe&pf_rd_p=8d483e07-327c-4aac-8788-cd60359f3dcb&pf_rd_r=QEYNBAD7YKS3HH8HP7C5&qid=1729695549&sbo=RZvfv%2F%2FHxDF%2BO5021pAnSA%3D%3D&sprefix=%2Caps%2C428&sr=1-1-5190daf0-67e3-427c-bea6-c72c1df98776 (Caused by NameResolutionError(\"<urllib3.connection.HTTPSConnection object at 0x14f85fcb0>: Failed to resolve 'amazon.cahttps' ([Errno 8] nodename nor servname provided, or not known)\"))\n",
      "/Rugged-Unlocked-Touchscreen-Android-Resistant/dp/B0CKXL587M/ref=sr_1_14?crid=2BYDDM0N15J5S&dib=eyJ2IjoiMSJ9.1WYwa9rFiUDoCW9Su6suF2z5FAu4yppk1ZZwu8AMlII44qcdmi0delm76PzE8Trd5ip3J34Gwu6MLtTg84xjv1YebngaMmj4BO_bKwXwWCVooQx6S3jbu5kPe_WvlGlDpXobbL2tRlei-bxZw5FTYvYyoF1iAJOe8-i3jBzbR84lWXXciXm4wPM8PNWrjMG_wqlYWBZaJU9y53d_jjTBz43hyMOvH4vjziePciXXvV0luyd9GDd0KzNbHic5ky0F4Q-WcqprVOkYFSg5dgnqHM4IFhfLXMEls-UhI-EihHU.pv3WOkv0fIWhz_fvHXCJLAi4GiGUz76ZEfRKUpZbjqk&dib_tag=se&keywords=phone&qid=1729695549&sprefix=%2Caps%2C428&sr=8-14\n",
      "/Smartphone-Blackview-Unlocked-Android-Cellulaire/dp/B0CKZ4SD6T/ref=sr_1_15?crid=2BYDDM0N15J5S&dib=eyJ2IjoiMSJ9.1WYwa9rFiUDoCW9Su6suF2z5FAu4yppk1ZZwu8AMlII44qcdmi0delm76PzE8Trd5ip3J34Gwu6MLtTg84xjv1YebngaMmj4BO_bKwXwWCVooQx6S3jbu5kPe_WvlGlDpXobbL2tRlei-bxZw5FTYvYyoF1iAJOe8-i3jBzbR84lWXXciXm4wPM8PNWrjMG_wqlYWBZaJU9y53d_jjTBz43hyMOvH4vjziePciXXvV0luyd9GDd0KzNbHic5ky0F4Q-WcqprVOkYFSg5dgnqHM4IFhfLXMEls-UhI-EihHU.pv3WOkv0fIWhz_fvHXCJLAi4GiGUz76ZEfRKUpZbjqk&dib_tag=se&keywords=phone&qid=1729695549&sprefix=%2Caps%2C428&sr=8-15\n",
      "/Vtech-Cordless-Phones-Caller-Black/dp/B00JZH7M82/ref=sr_1_16?crid=2BYDDM0N15J5S&dib=eyJ2IjoiMSJ9.1WYwa9rFiUDoCW9Su6suF2z5FAu4yppk1ZZwu8AMlII44qcdmi0delm76PzE8Trd5ip3J34Gwu6MLtTg84xjv1YebngaMmj4BO_bKwXwWCVooQx6S3jbu5kPe_WvlGlDpXobbL2tRlei-bxZw5FTYvYyoF1iAJOe8-i3jBzbR84lWXXciXm4wPM8PNWrjMG_wqlYWBZaJU9y53d_jjTBz43hyMOvH4vjziePciXXvV0luyd9GDd0KzNbHic5ky0F4Q-WcqprVOkYFSg5dgnqHM4IFhfLXMEls-UhI-EihHU.pv3WOkv0fIWhz_fvHXCJLAi4GiGUz76ZEfRKUpZbjqk&dib_tag=se&keywords=phone&qid=1729695549&sprefix=%2Caps%2C428&sr=8-16\n",
      "/Smartphone-OUKITEL-C53-Unlocked-Expandable/dp/B0D83J4Q5J/ref=sr_1_17?crid=2BYDDM0N15J5S&dib=eyJ2IjoiMSJ9.1WYwa9rFiUDoCW9Su6suF2z5FAu4yppk1ZZwu8AMlII44qcdmi0delm76PzE8Trd5ip3J34Gwu6MLtTg84xjv1YebngaMmj4BO_bKwXwWCVooQx6S3jbu5kPe_WvlGlDpXobbL2tRlei-bxZw5FTYvYyoF1iAJOe8-i3jBzbR84lWXXciXm4wPM8PNWrjMG_wqlYWBZaJU9y53d_jjTBz43hyMOvH4vjziePciXXvV0luyd9GDd0KzNbHic5ky0F4Q-WcqprVOkYFSg5dgnqHM4IFhfLXMEls-UhI-EihHU.pv3WOkv0fIWhz_fvHXCJLAi4GiGUz76ZEfRKUpZbjqk&dib_tag=se&keywords=phone&qid=1729695549&sprefix=%2Caps%2C428&sr=8-17\n",
      "/2-Handset-Cordless-System-Backlit-CS6114-21/dp/B008UZDT6O/ref=sr_1_18?crid=2BYDDM0N15J5S&dib=eyJ2IjoiMSJ9.1WYwa9rFiUDoCW9Su6suF2z5FAu4yppk1ZZwu8AMlII44qcdmi0delm76PzE8Trd5ip3J34Gwu6MLtTg84xjv1YebngaMmj4BO_bKwXwWCVooQx6S3jbu5kPe_WvlGlDpXobbL2tRlei-bxZw5FTYvYyoF1iAJOe8-i3jBzbR84lWXXciXm4wPM8PNWrjMG_wqlYWBZaJU9y53d_jjTBz43hyMOvH4vjziePciXXvV0luyd9GDd0KzNbHic5ky0F4Q-WcqprVOkYFSg5dgnqHM4IFhfLXMEls-UhI-EihHU.pv3WOkv0fIWhz_fvHXCJLAi4GiGUz76ZEfRKUpZbjqk&dib_tag=se&keywords=phone&qid=1729695549&sprefix=%2Caps%2C428&sr=8-18\n",
      "/AGM-M9-Waterproof-Drop-Proof-Dialling/dp/B0CRRPZFVF/ref=sr_1_19?crid=2BYDDM0N15J5S&dib=eyJ2IjoiMSJ9.1WYwa9rFiUDoCW9Su6suF2z5FAu4yppk1ZZwu8AMlII44qcdmi0delm76PzE8Trd5ip3J34Gwu6MLtTg84xjv1YebngaMmj4BO_bKwXwWCVooQx6S3jbu5kPe_WvlGlDpXobbL2tRlei-bxZw5FTYvYyoF1iAJOe8-i3jBzbR84lWXXciXm4wPM8PNWrjMG_wqlYWBZaJU9y53d_jjTBz43hyMOvH4vjziePciXXvV0luyd9GDd0KzNbHic5ky0F4Q-WcqprVOkYFSg5dgnqHM4IFhfLXMEls-UhI-EihHU.pv3WOkv0fIWhz_fvHXCJLAi4GiGUz76ZEfRKUpZbjqk&dib_tag=se&keywords=phone&qid=1729695549&sprefix=%2Caps%2C428&sr=8-19\n",
      "/VTech-Handset-Cordless-Backlit-Speakerphones/dp/B010S7D2OA/ref=sr_1_20?crid=2BYDDM0N15J5S&dib=eyJ2IjoiMSJ9.1WYwa9rFiUDoCW9Su6suF2z5FAu4yppk1ZZwu8AMlII44qcdmi0delm76PzE8Trd5ip3J34Gwu6MLtTg84xjv1YebngaMmj4BO_bKwXwWCVooQx6S3jbu5kPe_WvlGlDpXobbL2tRlei-bxZw5FTYvYyoF1iAJOe8-i3jBzbR84lWXXciXm4wPM8PNWrjMG_wqlYWBZaJU9y53d_jjTBz43hyMOvH4vjziePciXXvV0luyd9GDd0KzNbHic5ky0F4Q-WcqprVOkYFSg5dgnqHM4IFhfLXMEls-UhI-EihHU.pv3WOkv0fIWhz_fvHXCJLAi4GiGUz76ZEfRKUpZbjqk&dib_tag=se&keywords=phone&qid=1729695549&sprefix=%2Caps%2C428&sr=8-20\n",
      "/VTech-Cordless-Speakerphone-Waiting-VG101-11/dp/B0BN2HSMH3/ref=sr_1_25?crid=2BYDDM0N15J5S&dib=eyJ2IjoiMSJ9.1WYwa9rFiUDoCW9Su6suF2z5FAu4yppk1ZZwu8AMlII44qcdmi0delm76PzE8Trd5ip3J34Gwu6MLtTg84xjv1YebngaMmj4BO_bKwXwWCVooQx6S3jbu5kPe_WvlGlDpXobbL2tRlei-bxZw5FTYvYyoF1iAJOe8-i3jBzbR84lWXXciXm4wPM8PNWrjMG_wqlYWBZaJU9y53d_jjTBz43hyMOvH4vjziePciXXvV0luyd9GDd0KzNbHic5ky0F4Q-WcqprVOkYFSg5dgnqHM4IFhfLXMEls-UhI-EihHU.pv3WOkv0fIWhz_fvHXCJLAi4GiGUz76ZEfRKUpZbjqk&dib_tag=se&keywords=phone&qid=1729695549&sprefix=%2Caps%2C428&sr=8-25\n",
      "/Motorola-Play-Display-Battery-Unlocked/dp/B0C5BHVCSJ/ref=sr_1_26?crid=2BYDDM0N15J5S&dib=eyJ2IjoiMSJ9.1WYwa9rFiUDoCW9Su6suF2z5FAu4yppk1ZZwu8AMlII44qcdmi0delm76PzE8Trd5ip3J34Gwu6MLtTg84xjv1YebngaMmj4BO_bKwXwWCVooQx6S3jbu5kPe_WvlGlDpXobbL2tRlei-bxZw5FTYvYyoF1iAJOe8-i3jBzbR84lWXXciXm4wPM8PNWrjMG_wqlYWBZaJU9y53d_jjTBz43hyMOvH4vjziePciXXvV0luyd9GDd0KzNbHic5ky0F4Q-WcqprVOkYFSg5dgnqHM4IFhfLXMEls-UhI-EihHU.pv3WOkv0fIWhz_fvHXCJLAi4GiGUz76ZEfRKUpZbjqk&dib_tag=se&keywords=phone&qid=1729695549&sprefix=%2Caps%2C428&sr=8-26\n",
      "/Motorola-Moto-Pure-32GB-Unlocked/dp/B09Q1J6JHG/ref=sr_1_27?crid=2BYDDM0N15J5S&dib=eyJ2IjoiMSJ9.1WYwa9rFiUDoCW9Su6suF2z5FAu4yppk1ZZwu8AMlII44qcdmi0delm76PzE8Trd5ip3J34Gwu6MLtTg84xjv1YebngaMmj4BO_bKwXwWCVooQx6S3jbu5kPe_WvlGlDpXobbL2tRlei-bxZw5FTYvYyoF1iAJOe8-i3jBzbR84lWXXciXm4wPM8PNWrjMG_wqlYWBZaJU9y53d_jjTBz43hyMOvH4vjziePciXXvV0luyd9GDd0KzNbHic5ky0F4Q-WcqprVOkYFSg5dgnqHM4IFhfLXMEls-UhI-EihHU.pv3WOkv0fIWhz_fvHXCJLAi4GiGUz76ZEfRKUpZbjqk&dib_tag=se&keywords=phone&qid=1729695549&sprefix=%2Caps%2C428&sr=8-27\n",
      "/Unlocked-Ulefone-14-Smartphone-Android/dp/B0BHSGBGPK/ref=sr_1_28?crid=2BYDDM0N15J5S&dib=eyJ2IjoiMSJ9.1WYwa9rFiUDoCW9Su6suF2z5FAu4yppk1ZZwu8AMlII44qcdmi0delm76PzE8Trd5ip3J34Gwu6MLtTg84xjv1YebngaMmj4BO_bKwXwWCVooQx6S3jbu5kPe_WvlGlDpXobbL2tRlei-bxZw5FTYvYyoF1iAJOe8-i3jBzbR84lWXXciXm4wPM8PNWrjMG_wqlYWBZaJU9y53d_jjTBz43hyMOvH4vjziePciXXvV0luyd9GDd0KzNbHic5ky0F4Q-WcqprVOkYFSg5dgnqHM4IFhfLXMEls-UhI-EihHU.pv3WOkv0fIWhz_fvHXCJLAi4GiGUz76ZEfRKUpZbjqk&dib_tag=se&keywords=phone&qid=1729695549&sprefix=%2Caps%2C428&sr=8-28\n",
      "/Panasonic-KXTGF870B-Corded-Cordless-Handset/dp/B08DV97QHK/ref=sr_1_29?crid=2BYDDM0N15J5S&dib=eyJ2IjoiMSJ9.1WYwa9rFiUDoCW9Su6suF2z5FAu4yppk1ZZwu8AMlII44qcdmi0delm76PzE8Trd5ip3J34Gwu6MLtTg84xjv1YebngaMmj4BO_bKwXwWCVooQx6S3jbu5kPe_WvlGlDpXobbL2tRlei-bxZw5FTYvYyoF1iAJOe8-i3jBzbR84lWXXciXm4wPM8PNWrjMG_wqlYWBZaJU9y53d_jjTBz43hyMOvH4vjziePciXXvV0luyd9GDd0KzNbHic5ky0F4Q-WcqprVOkYFSg5dgnqHM4IFhfLXMEls-UhI-EihHU.pv3WOkv0fIWhz_fvHXCJLAi4GiGUz76ZEfRKUpZbjqk&dib_tag=se&keywords=phone&qid=1729695549&sprefix=%2Caps%2C428&sr=8-29\n",
      "/Ultra-Unlocked-Android-Battery-Titanium/dp/B0DGTPBMDX/ref=sr_1_30?crid=2BYDDM0N15J5S&dib=eyJ2IjoiMSJ9.1WYwa9rFiUDoCW9Su6suF2z5FAu4yppk1ZZwu8AMlII44qcdmi0delm76PzE8Trd5ip3J34Gwu6MLtTg84xjv1YebngaMmj4BO_bKwXwWCVooQx6S3jbu5kPe_WvlGlDpXobbL2tRlei-bxZw5FTYvYyoF1iAJOe8-i3jBzbR84lWXXciXm4wPM8PNWrjMG_wqlYWBZaJU9y53d_jjTBz43hyMOvH4vjziePciXXvV0luyd9GDd0KzNbHic5ky0F4Q-WcqprVOkYFSg5dgnqHM4IFhfLXMEls-UhI-EihHU.pv3WOkv0fIWhz_fvHXCJLAi4GiGUz76ZEfRKUpZbjqk&dib_tag=se&keywords=phone&qid=1729695549&sprefix=%2Caps%2C428&sr=8-30\n",
      "/Vtech-Trimstyle-Corded-Telephone-CD1103BK/dp/B008UZDZ54/ref=sr_1_31?crid=2BYDDM0N15J5S&dib=eyJ2IjoiMSJ9.1WYwa9rFiUDoCW9Su6suF2z5FAu4yppk1ZZwu8AMlII44qcdmi0delm76PzE8Trd5ip3J34Gwu6MLtTg84xjv1YebngaMmj4BO_bKwXwWCVooQx6S3jbu5kPe_WvlGlDpXobbL2tRlei-bxZw5FTYvYyoF1iAJOe8-i3jBzbR84lWXXciXm4wPM8PNWrjMG_wqlYWBZaJU9y53d_jjTBz43hyMOvH4vjziePciXXvV0luyd9GDd0KzNbHic5ky0F4Q-WcqprVOkYFSg5dgnqHM4IFhfLXMEls-UhI-EihHU.pv3WOkv0fIWhz_fvHXCJLAi4GiGUz76ZEfRKUpZbjqk&dib_tag=se&keywords=phone&qid=1729695549&sprefix=%2Caps%2C428&sr=8-31\n",
      "/Unlocked-Ulefone-Android-Smartphone-4500mAh/dp/B0BJ2N7KLZ/ref=sr_1_32?crid=2BYDDM0N15J5S&dib=eyJ2IjoiMSJ9.1WYwa9rFiUDoCW9Su6suF2z5FAu4yppk1ZZwu8AMlII44qcdmi0delm76PzE8Trd5ip3J34Gwu6MLtTg84xjv1YebngaMmj4BO_bKwXwWCVooQx6S3jbu5kPe_WvlGlDpXobbL2tRlei-bxZw5FTYvYyoF1iAJOe8-i3jBzbR84lWXXciXm4wPM8PNWrjMG_wqlYWBZaJU9y53d_jjTBz43hyMOvH4vjziePciXXvV0luyd9GDd0KzNbHic5ky0F4Q-WcqprVOkYFSg5dgnqHM4IFhfLXMEls-UhI-EihHU.pv3WOkv0fIWhz_fvHXCJLAi4GiGUz76ZEfRKUpZbjqk&dib_tag=se&keywords=phone&qid=1729695549&sprefix=%2Caps%2C428&sr=8-32\n",
      "/Samsung-Android-Smartphone-Unlcoked-International/dp/B0CP45G7C5/ref=sr_1_33?crid=2BYDDM0N15J5S&dib=eyJ2IjoiMSJ9.1WYwa9rFiUDoCW9Su6suF2z5FAu4yppk1ZZwu8AMlII44qcdmi0delm76PzE8Trd5ip3J34Gwu6MLtTg84xjv1YebngaMmj4BO_bKwXwWCVooQx6S3jbu5kPe_WvlGlDpXobbL2tRlei-bxZw5FTYvYyoF1iAJOe8-i3jBzbR84lWXXciXm4wPM8PNWrjMG_wqlYWBZaJU9y53d_jjTBz43hyMOvH4vjziePciXXvV0luyd9GDd0KzNbHic5ky0F4Q-WcqprVOkYFSg5dgnqHM4IFhfLXMEls-UhI-EihHU.pv3WOkv0fIWhz_fvHXCJLAi4GiGUz76ZEfRKUpZbjqk&dib_tag=se&keywords=phone&qid=1729695549&sprefix=%2Caps%2C428&sr=8-33\n",
      "/AGM-Waterproof-Drop-Proof-Flashlight-Batteries/dp/B0D2RWC7KZ/ref=sr_1_34?crid=2BYDDM0N15J5S&dib=eyJ2IjoiMSJ9.1WYwa9rFiUDoCW9Su6suF2z5FAu4yppk1ZZwu8AMlII44qcdmi0delm76PzE8Trd5ip3J34Gwu6MLtTg84xjv1YebngaMmj4BO_bKwXwWCVooQx6S3jbu5kPe_WvlGlDpXobbL2tRlei-bxZw5FTYvYyoF1iAJOe8-i3jBzbR84lWXXciXm4wPM8PNWrjMG_wqlYWBZaJU9y53d_jjTBz43hyMOvH4vjziePciXXvV0luyd9GDd0KzNbHic5ky0F4Q-WcqprVOkYFSg5dgnqHM4IFhfLXMEls-UhI-EihHU.pv3WOkv0fIWhz_fvHXCJLAi4GiGUz76ZEfRKUpZbjqk&dib_tag=se&keywords=phone&qid=1729695549&sprefix=%2Caps%2C428&sr=8-34\n",
      "/Samsung-Galaxy-Unlocked-Version-Warranty/dp/B0CX94Z8BP/ref=sr_1_35?crid=2BYDDM0N15J5S&dib=eyJ2IjoiMSJ9.1WYwa9rFiUDoCW9Su6suF2z5FAu4yppk1ZZwu8AMlII44qcdmi0delm76PzE8Trd5ip3J34Gwu6MLtTg84xjv1YebngaMmj4BO_bKwXwWCVooQx6S3jbu5kPe_WvlGlDpXobbL2tRlei-bxZw5FTYvYyoF1iAJOe8-i3jBzbR84lWXXciXm4wPM8PNWrjMG_wqlYWBZaJU9y53d_jjTBz43hyMOvH4vjziePciXXvV0luyd9GDd0KzNbHic5ky0F4Q-WcqprVOkYFSg5dgnqHM4IFhfLXMEls-UhI-EihHU.pv3WOkv0fIWhz_fvHXCJLAi4GiGUz76ZEfRKUpZbjqk&dib_tag=se&keywords=phone&qid=1729695549&sprefix=%2Caps%2C428&sr=8-35\n",
      "/Panasonic-Expandable-Cordless-Phone-Block/dp/B07K34TW8B/ref=sr_1_36?crid=2BYDDM0N15J5S&dib=eyJ2IjoiMSJ9.1WYwa9rFiUDoCW9Su6suF2z5FAu4yppk1ZZwu8AMlII44qcdmi0delm76PzE8Trd5ip3J34Gwu6MLtTg84xjv1YebngaMmj4BO_bKwXwWCVooQx6S3jbu5kPe_WvlGlDpXobbL2tRlei-bxZw5FTYvYyoF1iAJOe8-i3jBzbR84lWXXciXm4wPM8PNWrjMG_wqlYWBZaJU9y53d_jjTBz43hyMOvH4vjziePciXXvV0luyd9GDd0KzNbHic5ky0F4Q-WcqprVOkYFSg5dgnqHM4IFhfLXMEls-UhI-EihHU.pv3WOkv0fIWhz_fvHXCJLAi4GiGUz76ZEfRKUpZbjqk&dib_tag=se&keywords=phone&qid=1729695549&sprefix=%2Caps%2C428&sr=8-36\n",
      "/Samsung-Unlocked-Android-Smartphone-SM-A037W/dp/B0BS4N1D99/ref=sr_1_37?crid=2BYDDM0N15J5S&dib=eyJ2IjoiMSJ9.1WYwa9rFiUDoCW9Su6suF2z5FAu4yppk1ZZwu8AMlII44qcdmi0delm76PzE8Trd5ip3J34Gwu6MLtTg84xjv1YebngaMmj4BO_bKwXwWCVooQx6S3jbu5kPe_WvlGlDpXobbL2tRlei-bxZw5FTYvYyoF1iAJOe8-i3jBzbR84lWXXciXm4wPM8PNWrjMG_wqlYWBZaJU9y53d_jjTBz43hyMOvH4vjziePciXXvV0luyd9GDd0KzNbHic5ky0F4Q-WcqprVOkYFSg5dgnqHM4IFhfLXMEls-UhI-EihHU.pv3WOkv0fIWhz_fvHXCJLAi4GiGUz76ZEfRKUpZbjqk&dib_tag=se&keywords=phone&qid=1729695549&sprefix=%2Caps%2C428&sr=8-37\n",
      "/UMIDIGI-G9-5G-Unlocked-Fingerprint/dp/B0D3F61948/ref=sr_1_38?crid=2BYDDM0N15J5S&dib=eyJ2IjoiMSJ9.1WYwa9rFiUDoCW9Su6suF2z5FAu4yppk1ZZwu8AMlII44qcdmi0delm76PzE8Trd5ip3J34Gwu6MLtTg84xjv1YebngaMmj4BO_bKwXwWCVooQx6S3jbu5kPe_WvlGlDpXobbL2tRlei-bxZw5FTYvYyoF1iAJOe8-i3jBzbR84lWXXciXm4wPM8PNWrjMG_wqlYWBZaJU9y53d_jjTBz43hyMOvH4vjziePciXXvV0luyd9GDd0KzNbHic5ky0F4Q-WcqprVOkYFSg5dgnqHM4IFhfLXMEls-UhI-EihHU.pv3WOkv0fIWhz_fvHXCJLAi4GiGUz76ZEfRKUpZbjqk&dib_tag=se&keywords=phone&qid=1729695549&sprefix=%2Caps%2C428&sr=8-38\n",
      "/UMIDIGI-Unlocked-G9T-Extended-Long-Lasting/dp/B0DBLX4FTT/ref=sr_1_39?crid=2BYDDM0N15J5S&dib=eyJ2IjoiMSJ9.1WYwa9rFiUDoCW9Su6suF2z5FAu4yppk1ZZwu8AMlII44qcdmi0delm76PzE8Trd5ip3J34Gwu6MLtTg84xjv1YebngaMmj4BO_bKwXwWCVooQx6S3jbu5kPe_WvlGlDpXobbL2tRlei-bxZw5FTYvYyoF1iAJOe8-i3jBzbR84lWXXciXm4wPM8PNWrjMG_wqlYWBZaJU9y53d_jjTBz43hyMOvH4vjziePciXXvV0luyd9GDd0KzNbHic5ky0F4Q-WcqprVOkYFSg5dgnqHM4IFhfLXMEls-UhI-EihHU.pv3WOkv0fIWhz_fvHXCJLAi4GiGUz76ZEfRKUpZbjqk&dib_tag=se&keywords=phone&qid=1729695549&sprefix=%2Caps%2C428&sr=8-39\n",
      "/VTech-Handset-Cordless-Speakerphones-CS6929-4/dp/B010S7DN44/ref=sr_1_40?crid=2BYDDM0N15J5S&dib=eyJ2IjoiMSJ9.1WYwa9rFiUDoCW9Su6suF2z5FAu4yppk1ZZwu8AMlII44qcdmi0delm76PzE8Trd5ip3J34Gwu6MLtTg84xjv1YebngaMmj4BO_bKwXwWCVooQx6S3jbu5kPe_WvlGlDpXobbL2tRlei-bxZw5FTYvYyoF1iAJOe8-i3jBzbR84lWXXciXm4wPM8PNWrjMG_wqlYWBZaJU9y53d_jjTBz43hyMOvH4vjziePciXXvV0luyd9GDd0KzNbHic5ky0F4Q-WcqprVOkYFSg5dgnqHM4IFhfLXMEls-UhI-EihHU.pv3WOkv0fIWhz_fvHXCJLAi4GiGUz76ZEfRKUpZbjqk&dib_tag=se&keywords=phone&qid=1729695549&sprefix=%2Caps%2C428&sr=8-40\n",
      "/Samsung-Dualsim-International-Unlocked-Smartphone/dp/B0CVMZVMJQ/ref=sr_1_41?crid=2BYDDM0N15J5S&dib=eyJ2IjoiMSJ9.1WYwa9rFiUDoCW9Su6suF2z5FAu4yppk1ZZwu8AMlII44qcdmi0delm76PzE8Trd5ip3J34Gwu6MLtTg84xjv1YebngaMmj4BO_bKwXwWCVooQx6S3jbu5kPe_WvlGlDpXobbL2tRlei-bxZw5FTYvYyoF1iAJOe8-i3jBzbR84lWXXciXm4wPM8PNWrjMG_wqlYWBZaJU9y53d_jjTBz43hyMOvH4vjziePciXXvV0luyd9GDd0KzNbHic5ky0F4Q-WcqprVOkYFSg5dgnqHM4IFhfLXMEls-UhI-EihHU.pv3WOkv0fIWhz_fvHXCJLAi4GiGUz76ZEfRKUpZbjqk&dib_tag=se&keywords=phone&qid=1729695549&sprefix=%2Caps%2C428&sr=8-41\n",
      "/Samsung-Galaxy-128GB-Unlocked-Worldwide/dp/B0CSM6CWQ2/ref=sr_1_42?crid=2BYDDM0N15J5S&dib=eyJ2IjoiMSJ9.1WYwa9rFiUDoCW9Su6suF2z5FAu4yppk1ZZwu8AMlII44qcdmi0delm76PzE8Trd5ip3J34Gwu6MLtTg84xjv1YebngaMmj4BO_bKwXwWCVooQx6S3jbu5kPe_WvlGlDpXobbL2tRlei-bxZw5FTYvYyoF1iAJOe8-i3jBzbR84lWXXciXm4wPM8PNWrjMG_wqlYWBZaJU9y53d_jjTBz43hyMOvH4vjziePciXXvV0luyd9GDd0KzNbHic5ky0F4Q-WcqprVOkYFSg5dgnqHM4IFhfLXMEls-UhI-EihHU.pv3WOkv0fIWhz_fvHXCJLAi4GiGUz76ZEfRKUpZbjqk&dib_tag=se&keywords=phone&qid=1729695549&sprefix=%2Caps%2C428&sr=8-42\n",
      "/Orbic-Journey-Unlocked-Flip-Phone/dp/B0D5KQDFVM/ref=sr_1_43?crid=2BYDDM0N15J5S&dib=eyJ2IjoiMSJ9.1WYwa9rFiUDoCW9Su6suF2z5FAu4yppk1ZZwu8AMlII44qcdmi0delm76PzE8Trd5ip3J34Gwu6MLtTg84xjv1YebngaMmj4BO_bKwXwWCVooQx6S3jbu5kPe_WvlGlDpXobbL2tRlei-bxZw5FTYvYyoF1iAJOe8-i3jBzbR84lWXXciXm4wPM8PNWrjMG_wqlYWBZaJU9y53d_jjTBz43hyMOvH4vjziePciXXvV0luyd9GDd0KzNbHic5ky0F4Q-WcqprVOkYFSg5dgnqHM4IFhfLXMEls-UhI-EihHU.pv3WOkv0fIWhz_fvHXCJLAi4GiGUz76ZEfRKUpZbjqk&dib_tag=se&keywords=phone&qid=1729695549&sprefix=%2Caps%2C428&sr=8-43\n",
      "/Panasonic-Expandable-Cordless-Answering-Machine/dp/B079YM9S52/ref=sr_1_44?crid=2BYDDM0N15J5S&dib=eyJ2IjoiMSJ9.1WYwa9rFiUDoCW9Su6suF2z5FAu4yppk1ZZwu8AMlII44qcdmi0delm76PzE8Trd5ip3J34Gwu6MLtTg84xjv1YebngaMmj4BO_bKwXwWCVooQx6S3jbu5kPe_WvlGlDpXobbL2tRlei-bxZw5FTYvYyoF1iAJOe8-i3jBzbR84lWXXciXm4wPM8PNWrjMG_wqlYWBZaJU9y53d_jjTBz43hyMOvH4vjziePciXXvV0luyd9GDd0KzNbHic5ky0F4Q-WcqprVOkYFSg5dgnqHM4IFhfLXMEls-UhI-EihHU.pv3WOkv0fIWhz_fvHXCJLAi4GiGUz76ZEfRKUpZbjqk&dib_tag=se&keywords=phone&qid=1729695549&sprefix=%2Caps%2C428&sr=8-44\n",
      "/Unlocked-Waterproof-Smartphone-Fingerprint-Snapdragon/dp/B0CKXNCDXY/ref=sr_1_45?crid=2BYDDM0N15J5S&dib=eyJ2IjoiMSJ9.1WYwa9rFiUDoCW9Su6suF2z5FAu4yppk1ZZwu8AMlII44qcdmi0delm76PzE8Trd5ip3J34Gwu6MLtTg84xjv1YebngaMmj4BO_bKwXwWCVooQx6S3jbu5kPe_WvlGlDpXobbL2tRlei-bxZw5FTYvYyoF1iAJOe8-i3jBzbR84lWXXciXm4wPM8PNWrjMG_wqlYWBZaJU9y53d_jjTBz43hyMOvH4vjziePciXXvV0luyd9GDd0KzNbHic5ky0F4Q-WcqprVOkYFSg5dgnqHM4IFhfLXMEls-UhI-EihHU.pv3WOkv0fIWhz_fvHXCJLAi4GiGUz76ZEfRKUpZbjqk&dib_tag=se&keywords=phone&qid=1729695549&sprefix=%2Caps%2C428&sr=8-45\n",
      "/UMIDIGI-A15-Smartphone-Full-View-Waterdrop/dp/B0D5V8JT16/ref=sr_1_46?crid=2BYDDM0N15J5S&dib=eyJ2IjoiMSJ9.1WYwa9rFiUDoCW9Su6suF2z5FAu4yppk1ZZwu8AMlII44qcdmi0delm76PzE8Trd5ip3J34Gwu6MLtTg84xjv1YebngaMmj4BO_bKwXwWCVooQx6S3jbu5kPe_WvlGlDpXobbL2tRlei-bxZw5FTYvYyoF1iAJOe8-i3jBzbR84lWXXciXm4wPM8PNWrjMG_wqlYWBZaJU9y53d_jjTBz43hyMOvH4vjziePciXXvV0luyd9GDd0KzNbHic5ky0F4Q-WcqprVOkYFSg5dgnqHM4IFhfLXMEls-UhI-EihHU.pv3WOkv0fIWhz_fvHXCJLAi4GiGUz76ZEfRKUpZbjqk&dib_tag=se&keywords=phone&qid=1729695549&sprefix=%2Caps%2C428&sr=8-46\n",
      "/Samsung-Galaxy-Unlocked-128GB-Awesome/dp/B0D2113Z1X/ref=sr_1_47?crid=2BYDDM0N15J5S&dib=eyJ2IjoiMSJ9.1WYwa9rFiUDoCW9Su6suF2z5FAu4yppk1ZZwu8AMlII44qcdmi0delm76PzE8Trd5ip3J34Gwu6MLtTg84xjv1YebngaMmj4BO_bKwXwWCVooQx6S3jbu5kPe_WvlGlDpXobbL2tRlei-bxZw5FTYvYyoF1iAJOe8-i3jBzbR84lWXXciXm4wPM8PNWrjMG_wqlYWBZaJU9y53d_jjTBz43hyMOvH4vjziePciXXvV0luyd9GDd0KzNbHic5ky0F4Q-WcqprVOkYFSg5dgnqHM4IFhfLXMEls-UhI-EihHU.pv3WOkv0fIWhz_fvHXCJLAi4GiGUz76ZEfRKUpZbjqk&dib_tag=se&keywords=phone&qid=1729695549&sprefix=%2Caps%2C428&sr=8-47\n",
      "/Ultra-Unlocked-Android-Battery-Titanium/dp/B0DGTT76Y5/ref=sr_1_48?crid=2BYDDM0N15J5S&dib=eyJ2IjoiMSJ9.1WYwa9rFiUDoCW9Su6suF2z5FAu4yppk1ZZwu8AMlII44qcdmi0delm76PzE8Trd5ip3J34Gwu6MLtTg84xjv1YebngaMmj4BO_bKwXwWCVooQx6S3jbu5kPe_WvlGlDpXobbL2tRlei-bxZw5FTYvYyoF1iAJOe8-i3jBzbR84lWXXciXm4wPM8PNWrjMG_wqlYWBZaJU9y53d_jjTBz43hyMOvH4vjziePciXXvV0luyd9GDd0KzNbHic5ky0F4Q-WcqprVOkYFSg5dgnqHM4IFhfLXMEls-UhI-EihHU.pv3WOkv0fIWhz_fvHXCJLAi4GiGUz76ZEfRKUpZbjqk&dib_tag=se&keywords=phone&qid=1729695549&sprefix=%2Caps%2C428&sr=8-48\n",
      "/4G-SIM-Free-Foldable-Unlocked-Flashlight/dp/B0CVX8WKR2/ref=sr_1_49?crid=2BYDDM0N15J5S&dib=eyJ2IjoiMSJ9.1WYwa9rFiUDoCW9Su6suF2z5FAu4yppk1ZZwu8AMlII44qcdmi0delm76PzE8Trd5ip3J34Gwu6MLtTg84xjv1YebngaMmj4BO_bKwXwWCVooQx6S3jbu5kPe_WvlGlDpXobbL2tRlei-bxZw5FTYvYyoF1iAJOe8-i3jBzbR84lWXXciXm4wPM8PNWrjMG_wqlYWBZaJU9y53d_jjTBz43hyMOvH4vjziePciXXvV0luyd9GDd0KzNbHic5ky0F4Q-WcqprVOkYFSg5dgnqHM4IFhfLXMEls-UhI-EihHU.pv3WOkv0fIWhz_fvHXCJLAi4GiGUz76ZEfRKUpZbjqk&dib_tag=se&keywords=phone&qid=1729695549&sprefix=%2Caps%2C428&sr=8-49\n",
      "/Single-Handset-Cordless-Backlit-Display/dp/B008UZDRA2/ref=sr_1_50?crid=2BYDDM0N15J5S&dib=eyJ2IjoiMSJ9.1WYwa9rFiUDoCW9Su6suF2z5FAu4yppk1ZZwu8AMlII44qcdmi0delm76PzE8Trd5ip3J34Gwu6MLtTg84xjv1YebngaMmj4BO_bKwXwWCVooQx6S3jbu5kPe_WvlGlDpXobbL2tRlei-bxZw5FTYvYyoF1iAJOe8-i3jBzbR84lWXXciXm4wPM8PNWrjMG_wqlYWBZaJU9y53d_jjTBz43hyMOvH4vjziePciXXvV0luyd9GDd0KzNbHic5ky0F4Q-WcqprVOkYFSg5dgnqHM4IFhfLXMEls-UhI-EihHU.pv3WOkv0fIWhz_fvHXCJLAi4GiGUz76ZEfRKUpZbjqk&dib_tag=se&keywords=phone&qid=1729695549&sprefix=%2Caps%2C428&sr=8-50\n",
      "/VTech-CD1281-Corded-Button-Telephone/dp/B004JLNV4S/ref=sr_1_51?crid=2BYDDM0N15J5S&dib=eyJ2IjoiMSJ9.1WYwa9rFiUDoCW9Su6suF2z5FAu4yppk1ZZwu8AMlII44qcdmi0delm76PzE8Trd5ip3J34Gwu6MLtTg84xjv1YebngaMmj4BO_bKwXwWCVooQx6S3jbu5kPe_WvlGlDpXobbL2tRlei-bxZw5FTYvYyoF1iAJOe8-i3jBzbR84lWXXciXm4wPM8PNWrjMG_wqlYWBZaJU9y53d_jjTBz43hyMOvH4vjziePciXXvV0luyd9GDd0KzNbHic5ky0F4Q-WcqprVOkYFSg5dgnqHM4IFhfLXMEls-UhI-EihHU.pv3WOkv0fIWhz_fvHXCJLAi4GiGUz76ZEfRKUpZbjqk&dib_tag=se&keywords=phone&qid=1729695549&sprefix=%2Caps%2C428&sr=8-51\n",
      "/Android-Smartphone-MTK6799-2200mAh-Expansion/dp/B0B724V7NK/ref=sr_1_52?crid=2BYDDM0N15J5S&dib=eyJ2IjoiMSJ9.1WYwa9rFiUDoCW9Su6suF2z5FAu4yppk1ZZwu8AMlII44qcdmi0delm76PzE8Trd5ip3J34Gwu6MLtTg84xjv1YebngaMmj4BO_bKwXwWCVooQx6S3jbu5kPe_WvlGlDpXobbL2tRlei-bxZw5FTYvYyoF1iAJOe8-i3jBzbR84lWXXciXm4wPM8PNWrjMG_wqlYWBZaJU9y53d_jjTBz43hyMOvH4vjziePciXXvV0luyd9GDd0KzNbHic5ky0F4Q-WcqprVOkYFSg5dgnqHM4IFhfLXMEls-UhI-EihHU.pv3WOkv0fIWhz_fvHXCJLAi4GiGUz76ZEfRKUpZbjqk&dib_tag=se&keywords=phone&qid=1729695549&sprefix=%2Caps%2C428&sr=8-52\n",
      "/Big-Button-Phone-Seniors-Telephone/dp/B0922TL5LK/ref=sr_1_53?crid=2BYDDM0N15J5S&dib=eyJ2IjoiMSJ9.1WYwa9rFiUDoCW9Su6suF2z5FAu4yppk1ZZwu8AMlII44qcdmi0delm76PzE8Trd5ip3J34Gwu6MLtTg84xjv1YebngaMmj4BO_bKwXwWCVooQx6S3jbu5kPe_WvlGlDpXobbL2tRlei-bxZw5FTYvYyoF1iAJOe8-i3jBzbR84lWXXciXm4wPM8PNWrjMG_wqlYWBZaJU9y53d_jjTBz43hyMOvH4vjziePciXXvV0luyd9GDd0KzNbHic5ky0F4Q-WcqprVOkYFSg5dgnqHM4IFhfLXMEls-UhI-EihHU.pv3WOkv0fIWhz_fvHXCJLAi4GiGUz76ZEfRKUpZbjqk&dib_tag=se&keywords=phone&qid=1729695549&sprefix=%2Caps%2C428&sr=8-53\n",
      "/Cordless-Phones-Caller-Handset-Speakerphones/dp/B00JZH7S86/ref=sr_1_54?crid=2BYDDM0N15J5S&dib=eyJ2IjoiMSJ9.1WYwa9rFiUDoCW9Su6suF2z5FAu4yppk1ZZwu8AMlII44qcdmi0delm76PzE8Trd5ip3J34Gwu6MLtTg84xjv1YebngaMmj4BO_bKwXwWCVooQx6S3jbu5kPe_WvlGlDpXobbL2tRlei-bxZw5FTYvYyoF1iAJOe8-i3jBzbR84lWXXciXm4wPM8PNWrjMG_wqlYWBZaJU9y53d_jjTBz43hyMOvH4vjziePciXXvV0luyd9GDd0KzNbHic5ky0F4Q-WcqprVOkYFSg5dgnqHM4IFhfLXMEls-UhI-EihHU.pv3WOkv0fIWhz_fvHXCJLAi4GiGUz76ZEfRKUpZbjqk&dib_tag=se&keywords=phone&qid=1729695549&sprefix=%2Caps%2C428&sr=8-54\n",
      "/AGM-Waterproof-Drop-proof-Compatible-Powerful/dp/B0DDTLHTFQ/ref=sr_1_55?crid=2BYDDM0N15J5S&dib=eyJ2IjoiMSJ9.1WYwa9rFiUDoCW9Su6suF2z5FAu4yppk1ZZwu8AMlII44qcdmi0delm76PzE8Trd5ip3J34Gwu6MLtTg84xjv1YebngaMmj4BO_bKwXwWCVooQx6S3jbu5kPe_WvlGlDpXobbL2tRlei-bxZw5FTYvYyoF1iAJOe8-i3jBzbR84lWXXciXm4wPM8PNWrjMG_wqlYWBZaJU9y53d_jjTBz43hyMOvH4vjziePciXXvV0luyd9GDd0KzNbHic5ky0F4Q-WcqprVOkYFSg5dgnqHM4IFhfLXMEls-UhI-EihHU.pv3WOkv0fIWhz_fvHXCJLAi4GiGUz76ZEfRKUpZbjqk&dib_tag=se&keywords=phone&qid=1729695549&sprefix=%2Caps%2C428&sr=8-55\n",
      "/Blackview-Unlocked-Expandable-Android-Smartphone/dp/B0CXTDYRJT/ref=sr_1_56?crid=2BYDDM0N15J5S&dib=eyJ2IjoiMSJ9.1WYwa9rFiUDoCW9Su6suF2z5FAu4yppk1ZZwu8AMlII44qcdmi0delm76PzE8Trd5ip3J34Gwu6MLtTg84xjv1YebngaMmj4BO_bKwXwWCVooQx6S3jbu5kPe_WvlGlDpXobbL2tRlei-bxZw5FTYvYyoF1iAJOe8-i3jBzbR84lWXXciXm4wPM8PNWrjMG_wqlYWBZaJU9y53d_jjTBz43hyMOvH4vjziePciXXvV0luyd9GDd0KzNbHic5ky0F4Q-WcqprVOkYFSg5dgnqHM4IFhfLXMEls-UhI-EihHU.pv3WOkv0fIWhz_fvHXCJLAi4GiGUz76ZEfRKUpZbjqk&dib_tag=se&keywords=phone&qid=1729695549&sprefix=%2Caps%2C428&sr=8-56\n",
      "HTTPSConnectionPool(host='amazon.cahttps', port=443): Max retries exceeded with url: /aax-us-iad.amazon.com/x/c/JBy1bd9X-vFMlSQzEAAFbkoAAAGSueOHpwEAAAH2AQBvbm9fdHhuX2JpZDQgICBvbm9fdHhuX2ltcDEgICBqwfX5/https://www.amazon.ca/Ulefone-Armor-27-Rugged-Phone/dp/B0DHWSMG89/ref=sxbs_sbv_search_btf?content-id=amzn1.sym.bedc4dd8-4c25-444f-af1f-5771f5bd1c45%3Aamzn1.sym.bedc4dd8-4c25-444f-af1f-5771f5bd1c45&crid=2BYDDM0N15J5S&cv_ct_cx=phone&dib=eyJ2IjoiMSJ9.iHRmVU3AAemRaW6YrBypNA.wIwS-WSF0Vogb20xd_O211RTv7FCm2IgzhlZBd1qscs&dib_tag=se&keywords=phone&pd_rd_i=B0DHWSMG89&pd_rd_r=54c9bb1b-ec68-46c0-a35b-aad72a153cba&pd_rd_w=Wfe2R&pd_rd_wg=v2UKI&pf_rd_p=bedc4dd8-4c25-444f-af1f-5771f5bd1c45&pf_rd_r=QEYNBAD7YKS3HH8HP7C5&qid=1729695549&sbo=RZvfv%2F%2FHxDF%2BO5021pAnSA%3D%3D&sprefix=%2Caps%2C428&sr=1-1-a61ee601-6e56-4862-a8a2-1d3da5a5406f (Caused by NameResolutionError(\"<urllib3.connection.HTTPSConnection object at 0x154ff89e0>: Failed to resolve 'amazon.cahttps' ([Errno 8] nodename nor servname provided, or not known)\"))\n"
     ]
    }
   ],
   "source": [
    "resultList = []\n",
    "for link in filteredLinks:\n",
    "    try:\n",
    "        productLink = \"https://amazon.ca\" + link\n",
    "        productWebpage = requests.get(productLink, headers=headers)\n",
    "        productSoup = BeautifulSoup(productWebpage.content, \"html.parser\")\n",
    "    \n",
    "        title = productSoup.find(\"span\", attrs={\"id\":\"productTitle\"}).text.strip()\n",
    "        price = productSoup.find(\"span\", attrs={\"class\":\"a-price-whole\"}).text.strip()\n",
    "        rating = productSoup.find(\"span\", attrs={\"class\":\"a-icon-alt\"}).text.strip()\n",
    "        print(link)\n",
    "        \n",
    "        obj = {\"Title\": title, \"Price\": price, \"rating\": rating}\n",
    "        resultList.append(obj)\n",
    "        time.sleep(5)\n",
    "    except Exception as e:\n",
    "        print(e)\n",
    "result_df = pd.DataFrame(resultList)"
   ]
  },
  {
   "cell_type": "code",
   "execution_count": null,
   "id": "a1c4bd0b-35cd-45b9-a5b5-9577be1094d1",
   "metadata": {},
   "outputs": [],
   "source": [
    "df.to_csv('theDataframe.csv', sep='\\t')\n"
   ]
  },
  {
   "cell_type": "code",
   "execution_count": 47,
   "id": "55743fee-cefb-4210-811d-421da1776642",
   "metadata": {},
   "outputs": [],
   "source": [
    "productLink = \"https://amazon.ca\" + filtered_links[0]"
   ]
  },
  {
   "cell_type": "code",
   "execution_count": 48,
   "id": "278a8521-7ba5-4d9d-909f-d42ddb733e5a",
   "metadata": {},
   "outputs": [
    {
     "data": {
      "text/plain": [
       "'https://amazon.ca/Samsung-Galaxy-128GB-Unlocked-Worldwide/dp/B0CSLTN49K/ref=sr_1_5?crid=2BYDDM0N15J5S&dib=eyJ2IjoiMSJ9.1WYwa9rFiUDoCW9Su6suF2z5FAu4yppk1ZZwu8AMlII44qcdmi0delm76PzE8Trd5ip3J34Gwu6MLtTg84xjv1YebngaMmj4BO_bKwXwWCVooQx6S3jbu5kPe_WvlGlDpXobbL2tRlei-bxZw5FTYvYyoF1iAJOe8-i3jBzbR84lWXXciXm4wPM8PNWrjMG_wqlYWBZaJU9y53d_jjTBz43hyMOvH4vjziePciXXvV0luyd9GDd0KzNbHic5ky0F4Q-WcqprVOkYFSg5dgnqHM4IFhfLXMEls-UhI-EihHU.dRWJy8gwgSSryw7yPEc4NVWH4SpCXKng_KBcLTbRM7s&dib_tag=se&keywords=phone&qid=1729684162&sprefix=%2Caps%2C428&sr=8-5'"
      ]
     },
     "execution_count": 48,
     "metadata": {},
     "output_type": "execute_result"
    }
   ],
   "source": [
    "productLink"
   ]
  },
  {
   "cell_type": "code",
   "execution_count": 55,
   "id": "b93db2fe-814a-40ad-a8d2-61e8dc025d77",
   "metadata": {},
   "outputs": [],
   "source": [
    "productWebpage = requests.get(productLink, headers=headers)"
   ]
  },
  {
   "cell_type": "code",
   "execution_count": 58,
   "id": "b4595f2d-36d7-4d87-b8a1-2a67ac9ef4be",
   "metadata": {},
   "outputs": [],
   "source": [
    "productSoup = BeautifulSoup(productWebpage.content, \"html.parser\")"
   ]
  },
  {
   "cell_type": "code",
   "execution_count": 65,
   "id": "ee3fbc99-324d-47d8-ab4b-51afe00f0ca8",
   "metadata": {},
   "outputs": [
    {
     "data": {
      "text/plain": [
       "'Samsung Galaxy A05 128GB (128GB + 4GB) I Unlocked Worldwide I 6.7\" I Dual Sim (Black)'"
      ]
     },
     "execution_count": 65,
     "metadata": {},
     "output_type": "execute_result"
    }
   ],
   "source": [
    "title = productSoup.find(\"span\", attrs={\"id\": \"productTitle\"}).text.strip()"
   ]
  },
  {
   "cell_type": "code",
   "execution_count": 71,
   "id": "a1ff5785-b947-4be4-be97-9697c2a0d47e",
   "metadata": {},
   "outputs": [],
   "source": [
    "price = productSoup.find(\"span\", attrs={\"class\":\"a-price-whole\"}).text"
   ]
  },
  {
   "cell_type": "code",
   "execution_count": 72,
   "id": "aa723e7a-7297-4848-8c19-04c165611307",
   "metadata": {},
   "outputs": [
    {
     "data": {
      "text/plain": [
       "'145.'"
      ]
     },
     "execution_count": 72,
     "metadata": {},
     "output_type": "execute_result"
    }
   ],
   "source": [
    "price"
   ]
  },
  {
   "cell_type": "code",
   "execution_count": 82,
   "id": "945ad311-1683-4899-a971-e45f18c10a90",
   "metadata": {},
   "outputs": [],
   "source": [
    "rating = productSoup.find(\"span\", attrs={\"class\":\"a-icon-alt\"})"
   ]
  },
  {
   "cell_type": "code",
   "execution_count": 84,
   "id": "9ba1db9d-3b73-4f98-b04b-a86703ed51c5",
   "metadata": {},
   "outputs": [
    {
     "data": {
      "text/plain": [
       "'4.1 out of 5 stars'"
      ]
     },
     "execution_count": 84,
     "metadata": {},
     "output_type": "execute_result"
    }
   ],
   "source": [
    "rating.text"
   ]
  },
  {
   "cell_type": "code",
   "execution_count": null,
   "id": "84cbd0b0-3b60-4d82-9131-5dca029ffc52",
   "metadata": {},
   "outputs": [],
   "source": []
  }
 ],
 "metadata": {
  "kernelspec": {
   "display_name": "Python 3 (ipykernel)",
   "language": "python",
   "name": "python3"
  },
  "language_info": {
   "codemirror_mode": {
    "name": "ipython",
    "version": 3
   },
   "file_extension": ".py",
   "mimetype": "text/x-python",
   "name": "python",
   "nbconvert_exporter": "python",
   "pygments_lexer": "ipython3",
   "version": "3.12.7"
  }
 },
 "nbformat": 4,
 "nbformat_minor": 5
}
